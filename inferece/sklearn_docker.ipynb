{
 "cells": [
  {
   "cell_type": "code",
   "execution_count": 1,
   "id": "c4888ff0",
   "metadata": {},
   "outputs": [],
   "source": [
    "# S3 prefix\n",
    "prefix = \"sm-docker-poc\"\n",
    "\n",
    "# Define IAM role\n",
    "import boto3\n",
    "import re\n",
    "import os\n",
    "import numpy as np\n",
    "import pandas as pd\n",
    "import io\n",
    "import itertools\n",
    "from sagemaker import get_execution_role\n",
    "from sagemaker.predictor import csv_serializer\n",
    "import sagemaker as sage\n",
    "from time import gmtime, strftime\n",
    "\n",
    "role = get_execution_role()"
   ]
  },
  {
   "cell_type": "code",
   "execution_count": 2,
   "id": "2511e51c",
   "metadata": {},
   "outputs": [
    {
     "data": {
      "text/plain": [
       "'arn:aws:iam::709891711940:role/service-role/AmazonSageMakerServiceCatalogProductsUseRole'"
      ]
     },
     "execution_count": 2,
     "metadata": {},
     "output_type": "execute_result"
    }
   ],
   "source": [
    "role"
   ]
  },
  {
   "cell_type": "code",
   "execution_count": 3,
   "id": "6367e736",
   "metadata": {},
   "outputs": [],
   "source": [
    "sess = sage.Session()"
   ]
  },
  {
   "cell_type": "code",
   "execution_count": 4,
   "id": "361b5ff8",
   "metadata": {},
   "outputs": [],
   "source": [
    "WORK_DIRECTORY = \"sm_sklearn_docker/data\"\n",
    "\n",
    "data_location = sess.upload_data(WORK_DIRECTORY, key_prefix=prefix + \"/data\")"
   ]
  },
  {
   "cell_type": "code",
   "execution_count": 14,
   "id": "54a19790",
   "metadata": {},
   "outputs": [
    {
     "data": {
      "text/plain": [
       "'s3://sagemaker-us-east-1-709891711940/sm-docker-poc/data'"
      ]
     },
     "execution_count": 14,
     "metadata": {},
     "output_type": "execute_result"
    }
   ],
   "source": [
    "data_location"
   ]
  },
  {
   "cell_type": "code",
   "execution_count": 15,
   "id": "f04ddd49",
   "metadata": {},
   "outputs": [],
   "source": [
    "account = sess.boto_session.client(\"sts\").get_caller_identity()[\"Account\"]\n",
    "region = sess.boto_session.region_name\n",
    "# image = \"709891711940.dkr.ecr.us-east-1.amazonaws.com/sm-poc:latest\"\n",
    "image = \"709891711940.dkr.ecr.us-east-1.amazonaws.com/sm-poc1:latest\""
   ]
  },
  {
   "cell_type": "code",
   "execution_count": 16,
   "id": "d997c0bb",
   "metadata": {},
   "outputs": [
    {
     "data": {
      "text/plain": [
       "('709891711940', 'us-east-1')"
      ]
     },
     "execution_count": 16,
     "metadata": {},
     "output_type": "execute_result"
    }
   ],
   "source": [
    "account, region"
   ]
  },
  {
   "cell_type": "code",
   "execution_count": 19,
   "id": "7ca59b6f",
   "metadata": {},
   "outputs": [
    {
     "name": "stdout",
     "output_type": "stream",
     "text": [
      "2022-10-07 13:30:24 Starting - Starting the training job...\n",
      "2022-10-07 13:30:47 Starting - Preparing the instances for trainingProfilerReport-1665149424: InProgress\n",
      ".........\n",
      "2022-10-07 13:32:08 Downloading - Downloading input data...\n",
      "2022-10-07 13:32:48 Training - Training image download completed. Training in progress..\u001b[34mStarting the training.\u001b[0m\n",
      "\u001b[34mTraining complete.\u001b[0m\n",
      "\n",
      "2022-10-07 13:33:48 Uploading - Uploading generated training model\n",
      "2022-10-07 13:33:48 Completed - Training job completed\n",
      "Training seconds: 107\n",
      "Billable seconds: 107\n"
     ]
    }
   ],
   "source": [
    "tree = sage.estimator.Estimator(\n",
    "    image,\n",
    "    role,\n",
    "    1,\n",
    "    \"ml.c4.2xlarge\",\n",
    "    output_path=\"s3://{}/output\".format(sess.default_bucket()),\n",
    "    sagemaker_session=sess\n",
    ")\n",
    "tree.fit(data_location)"
   ]
  },
  {
   "cell_type": "code",
   "execution_count": 20,
   "id": "08829861",
   "metadata": {},
   "outputs": [
    {
     "name": "stdout",
     "output_type": "stream",
     "text": [
      "-------!"
     ]
    }
   ],
   "source": [
    "predictor = tree.deploy(1, \"ml.m4.xlarge\", serializer=csv_serializer)"
   ]
  },
  {
   "cell_type": "code",
   "execution_count": 48,
   "id": "3d860da6",
   "metadata": {},
   "outputs": [
    {
     "data": {
      "text/plain": [
       "b'1,2,3,4\\n5.0,3.5,1.3,0.3\\n4.5,2.3,1.3,0.3\\n4.4,3.2,1.3,0.2\\n5.0,3.5,1.6,0.6\\n5.1,3.8,1.9,0.4\\n4.8,3.0,1.4,0.3\\n5.1,3.8,1.6,0.2\\n4.6,3.2,1.4,0.2\\n5.3,3.7,1.5,0.2\\n5.0,3.3,1.4,0.2\\n5.5,2.6,4.4,1.2\\n6.1,3.0,4.6,1.4\\n5.8,2.6,4.0,1.2\\n5.0,2.3,3.3,1.0\\n5.6,2.7,4.2,1.3\\n5.7,3.0,4.2,1.2\\n5.7,2.9,4.2,1.3\\n6.2,2.9,4.3,1.3\\n5.1,2.5,3.0,1.1\\n5.7,2.8,4.1,1.3\\n6.7,3.1,5.6,2.4\\n6.9,3.1,5.1,2.3\\n5.8,2.7,5.1,1.9\\n6.8,3.2,5.9,2.3\\n6.7,3.3,5.7,2.5\\n6.7,3.0,5.2,2.3\\n6.3,2.5,5.0,1.9\\n6.5,3.0,5.2,2.0\\n6.2,3.4,5.4,2.3\\n'"
      ]
     },
     "execution_count": 48,
     "metadata": {},
     "output_type": "execute_result"
    }
   ],
   "source": [
    "a = [50 * i for i in range(3)]\n",
    "b = [40 + i for i in range(10)]\n",
    "indices = [i + j for i, j in itertools.product(a, b)]\n",
    "\n",
    "df = pd.read_csv(\"data/iris.csv\", header=None)\n",
    "df.sample(3)\n",
    "test_data = df.iloc[indices[:-1]]\n",
    "test_data_x, test_data_y = test_data.iloc[:, 1:], test_data.iloc[:, 0]\n",
    "data = io.BytesIO(test_data_x.to_csv(index=False).encode('utf-8'))\n",
    "data.getvalue()"
   ]
  },
  {
   "cell_type": "code",
   "execution_count": 49,
   "id": "2f908998",
   "metadata": {},
   "outputs": [
    {
     "name": "stderr",
     "output_type": "stream",
     "text": [
      "/home/ec2-user/anaconda3/envs/amazonei_mxnet_p36/lib/python3.6/site-packages/boto3/compat.py:88: PythonDeprecationWarning: Boto3 will no longer support Python 3.6 starting May 30, 2022. To continue receiving service updates, bug fixes, and security updates please upgrade to Python 3.7 or later. More information can be found here: https://aws.amazon.com/blogs/developer/python-support-policy-updates-for-aws-sdks-and-tools/\n",
      "  warnings.warn(warning, PythonDeprecationWarning)\n"
     ]
    },
    {
     "data": {
      "text/plain": [
       "'virginica\\nsetosa\\nsetosa\\nsetosa\\nsetosa\\nsetosa\\nsetosa\\nsetosa\\nsetosa\\nsetosa\\nsetosa\\nversicolor\\nversicolor\\nversicolor\\nversicolor\\nversicolor\\nversicolor\\nversicolor\\nversicolor\\nversicolor\\nversicolor\\nvirginica\\nvirginica\\nvirginica\\nvirginica\\nvirginica\\nvirginica\\nvirginica\\nvirginica\\nvirginica\\n'"
      ]
     },
     "execution_count": 49,
     "metadata": {},
     "output_type": "execute_result"
    }
   ],
   "source": [
    "runtime = boto3.client(\"runtime.sagemaker\")\n",
    "endpoint_name = 'sm-poc1-2022-10-07-13-40-23-558'\n",
    "response = runtime.invoke_endpoint(\n",
    "    EndpointName=endpoint_name, ContentType=\"text/csv\", Body=data\n",
    ")\n",
    "response[\"Body\"].read().decode('utf-8')"
   ]
  },
  {
   "cell_type": "code",
   "execution_count": null,
   "id": "2adde361",
   "metadata": {},
   "outputs": [],
   "source": []
  },
  {
   "cell_type": "code",
   "execution_count": null,
   "id": "8ca2230d",
   "metadata": {},
   "outputs": [],
   "source": []
  }
 ],
 "metadata": {
  "kernelspec": {
   "display_name": "conda_amazonei_mxnet_p36",
   "language": "python",
   "name": "conda_amazonei_mxnet_p36"
  },
  "language_info": {
   "codemirror_mode": {
    "name": "ipython",
    "version": 3
   },
   "file_extension": ".py",
   "mimetype": "text/x-python",
   "name": "python",
   "nbconvert_exporter": "python",
   "pygments_lexer": "ipython3",
   "version": "3.6.13"
  }
 },
 "nbformat": 4,
 "nbformat_minor": 5
}
